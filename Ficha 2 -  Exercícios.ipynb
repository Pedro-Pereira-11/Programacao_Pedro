{
 "cells": [
  {
   "cell_type": "code",
   "execution_count": 1,
   "metadata": {},
   "outputs": [],
   "source": [
    "concelhos = [\"Amares\", \"Barcelos\", \"Braga\", \"Cabeceiras_de_Basto\", \"Celourico_de_Basto\", \"Esposende\", \"Fafe\", \"Guimarães\",\n",
    "             \"Póvoa_de_Lanhoso\", \"Terras_de_Bouro\", \"Vieiera_do_Minho\", \"Vila_Nova_de_Famalicão\", \"Vila_Verde\", \"Vizela\"]"
   ]
  },
  {
   "cell_type": "code",
   "execution_count": 2,
   "metadata": {},
   "outputs": [
    {
     "data": {
      "text/plain": [
       "14"
      ]
     },
     "execution_count": 2,
     "metadata": {},
     "output_type": "execute_result"
    }
   ],
   "source": [
    "#    Exercício 1.6.1\n",
    "\n",
    "#    Número de elementos da lista\n",
    "len(concelhos)"
   ]
  },
  {
   "cell_type": "code",
   "execution_count": 3,
   "metadata": {},
   "outputs": [
    {
     "data": {
      "text/plain": [
       "'Amares'"
      ]
     },
     "execution_count": 3,
     "metadata": {},
     "output_type": "execute_result"
    }
   ],
   "source": [
    "#    Exercício 1.6.2\n",
    "\n",
    "#    Primeiro elemento da lista\n",
    "concelhos[0]"
   ]
  },
  {
   "cell_type": "code",
   "execution_count": 4,
   "metadata": {},
   "outputs": [
    {
     "data": {
      "text/plain": [
       "['Amares', 'Vizela']"
      ]
     },
     "execution_count": 4,
     "metadata": {},
     "output_type": "execute_result"
    }
   ],
   "source": [
    "#    Exercício 1.6.3\n",
    "\n",
    "#    Cria-se uma lista com o primeiro e último elemento do array concelhos. O último elemento de uma lista pode ser indexado\n",
    "# como -1. \n",
    "[concelhos[0], concelhos[-1]]"
   ]
  },
  {
   "cell_type": "code",
   "execution_count": 5,
   "metadata": {},
   "outputs": [
    {
     "data": {
      "text/plain": [
       "['Amares',\n",
       " 'Barcelos',\n",
       " 'Braga',\n",
       " 'Cabeceiras_de_Basto',\n",
       " 'Celourico_de_Basto',\n",
       " 'Esposende',\n",
       " 'Fafe',\n",
       " 'Guimarães',\n",
       " 'Póvoa_de_Lanhoso',\n",
       " 'Terras_de_Bouro',\n",
       " 'Vieiera_do_Minho',\n",
       " 'Vila_Nova_de_Famalicão',\n",
       " 'Vila_Verde',\n",
       " 'Vizela']"
      ]
     },
     "execution_count": 5,
     "metadata": {},
     "output_type": "execute_result"
    }
   ],
   "source": [
    "#    Exercício 1.6.4\n",
    "\n",
    "#    A função sorted() pega numa lista e retorna uma nova lista com os elementos ordenados da primeira lista. .: Como um vetor?\n",
    "#Verticalmente \n",
    "sorted(concelhos)\n",
    "#    A função sorted() ordena os elementos da lista, neste caso."
   ]
  },
  {
   "cell_type": "code",
   "execution_count": 6,
   "metadata": {},
   "outputs": [
    {
     "data": {
      "text/plain": [
       "['Vizela',\n",
       " 'Vila_Verde',\n",
       " 'Vila_Nova_de_Famalicão',\n",
       " 'Vieiera_do_Minho',\n",
       " 'Terras_de_Bouro',\n",
       " 'Póvoa_de_Lanhoso',\n",
       " 'Guimarães',\n",
       " 'Fafe',\n",
       " 'Esposende',\n",
       " 'Celourico_de_Basto',\n",
       " 'Cabeceiras_de_Basto',\n",
       " 'Braga',\n",
       " 'Barcelos',\n",
       " 'Amares']"
      ]
     },
     "execution_count": 6,
     "metadata": {},
     "output_type": "execute_result"
    }
   ],
   "source": [
    "#    Exercício 1.6.4\n",
    "\n",
    "#    Podemos inverter a lista que sorted() retorna, aplicando a função reverse=True.\n",
    "sorted(concelhos, reverse=True)\n",
    "#    O parâmetro reverse=True faz com que sorted() devolva os elementos da lista de forma a que o ultimo elemento se torne o \n",
    "# primeiro, o segundo no penúltimo, e por aí em diante. Se reverse=False, o resultado não é devolvido."
   ]
  },
  {
   "cell_type": "code",
   "execution_count": 7,
   "metadata": {},
   "outputs": [
    {
     "data": {
      "text/plain": [
       "['Fafe',\n",
       " 'Braga',\n",
       " 'Amares',\n",
       " 'Vizela',\n",
       " 'Barcelos',\n",
       " 'Esposende',\n",
       " 'Guimarães',\n",
       " 'Vila_Verde',\n",
       " 'Terras_de_Bouro',\n",
       " 'Póvoa_de_Lanhoso',\n",
       " 'Vieiera_do_Minho',\n",
       " 'Celourico_de_Basto',\n",
       " 'Cabeceiras_de_Basto',\n",
       " 'Vila_Nova_de_Famalicão']"
      ]
     },
     "execution_count": 7,
     "metadata": {},
     "output_type": "execute_result"
    }
   ],
   "source": [
    "#    Exercício 1.6.4\n",
    "\n",
    "#    Neste caso, a lista foi ordenada consoante o número de letras que cada concelho tem, por ordem crescente.\n",
    "sorted(concelhos, key=len)\n",
    "#    O parâmetro key=len faz com que a lista seja orndenada de forma ascendente, desde o menor elemento até ao maior elemento \n",
    "# da mesma."
   ]
  },
  {
   "cell_type": "code",
   "execution_count": null,
   "metadata": {},
   "outputs": [],
   "source": []
  }
 ],
 "metadata": {
  "kernelspec": {
   "display_name": "Python 3",
   "language": "python",
   "name": "python3"
  },
  "language_info": {
   "codemirror_mode": {
    "name": "ipython",
    "version": 3
   },
   "file_extension": ".py",
   "mimetype": "text/x-python",
   "name": "python",
   "nbconvert_exporter": "python",
   "pygments_lexer": "ipython3",
   "version": "3.7.6"
  }
 },
 "nbformat": 4,
 "nbformat_minor": 4
}
