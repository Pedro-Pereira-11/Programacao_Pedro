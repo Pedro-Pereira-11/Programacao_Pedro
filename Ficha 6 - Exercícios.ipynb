{
 "cells": [
  {
   "cell_type": "code",
   "execution_count": 4,
   "metadata": {},
   "outputs": [
    {
     "name": "stdout",
     "output_type": "stream",
     "text": [
      "Introduza o raio em metros: 3\n",
      "A área do círculo é 28.274 metros quadrados\n"
     ]
    }
   ],
   "source": [
    "#    Exercícios Iniciais\n",
    "\n",
    "#    Exercício 1\n",
    "\n",
    "import math\n",
    "\n",
    "def area_circulo(raio):\n",
    "    contas=3.14159*raio*raio\n",
    "    area= \"A área do círculo é {:0.3f} metros quadrados\". format(float(contas))\n",
    "    return area\n",
    "\n",
    "raio=eval(input(\"Introduza o raio em metros: \"))\n",
    "print(area_circulo(raio))\n"
   ]
  },
  {
   "cell_type": "code",
   "execution_count": 11,
   "metadata": {},
   "outputs": [
    {
     "name": "stdout",
     "output_type": "stream",
     "text": [
      "Introduza o número de horas em prova: 3\n",
      "Introduza o número de minutos em prova: 45.3\n",
      "O tempo de prova é 13518.0 segundos\n"
     ]
    }
   ],
   "source": [
    "#    Exercícios Iniciais\n",
    "\n",
    "#    Exercício 3\n",
    "\n",
    "import math \n",
    "\n",
    "def tempo(horas, minutos):\n",
    "    contas=horas*3600+minutos*60\n",
    "    tempo_segundos = \"O tempo de prova é {:0.1f} segundos\". format(float(contas))\n",
    "    return tempo_segundos\n",
    "\n",
    "horas = eval(input(\"Introduza o número de horas em prova: \"))\n",
    "minutos = eval(input(\"Introduza o número de minutos em prova: \"))\n",
    "print(tempo(horas, minutos))"
   ]
  },
  {
   "cell_type": "code",
   "execution_count": 22,
   "metadata": {},
   "outputs": [
    {
     "name": "stdout",
     "output_type": "stream",
     "text": [
      "O número na posição 0 da sequência:44\n",
      "O número na posição 1 da sequência:70\n",
      "O número na posição 2 da sequência:1\n",
      "O máximo da sequência é: 70\n"
     ]
    }
   ],
   "source": [
    "#    Exercícios Iniciais \n",
    "\n",
    "#    Exercício 2\n",
    "\n",
    "def conjunto_numeros():\n",
    "    numero=3\n",
    "    lista=[]\n",
    "    for i in range(numero):\n",
    "        x=input(\"O número na posição %d da sequência:\" %(i))\n",
    "        lista.append(x)\n",
    "    print(\"O máximo da sequência é:\", max(lista))\n",
    "\n",
    "conjunto_numeros()\n",
    "    \n",
    "\n"
   ]
  },
  {
   "cell_type": "code",
   "execution_count": 1,
   "metadata": {},
   "outputs": [
    {
     "name": "stdout",
     "output_type": "stream",
     "text": [
      "Introduza a velocidade em metros/segundo:4\n",
      "Introduza o angulo de lançamento em graus: 45\n",
      "O projétil tem um alcance de 1.6 metros.\n"
     ]
    }
   ],
   "source": [
    "import math\n",
    "\n",
    "def projetil(velocidade, angulo):\n",
    "    alcance = ((velocidade**2 * math.sin(2*math.radians(angulo))) /9.8)\n",
    "    resultado = \"O projétil tem um alcance de {:0.1f} metros.\". format(float(alcance))\n",
    "    return resultado\n",
    "\n",
    "velocidade = eval(input(\"Introduza a velocidade em metros/segundo:\"))\n",
    "angulo = eval(input(\"Introduza o angulo de lançamento em graus: \"))\n",
    "print(projetil(velocidade, angulo))"
   ]
  },
  {
   "cell_type": "code",
   "execution_count": null,
   "metadata": {},
   "outputs": [],
   "source": []
  },
  {
   "cell_type": "code",
   "execution_count": null,
   "metadata": {},
   "outputs": [],
   "source": []
  }
 ],
 "metadata": {
  "kernelspec": {
   "display_name": "Python 3",
   "language": "python",
   "name": "python3"
  },
  "language_info": {
   "codemirror_mode": {
    "name": "ipython",
    "version": 3
   },
   "file_extension": ".py",
   "mimetype": "text/x-python",
   "name": "python",
   "nbconvert_exporter": "python",
   "pygments_lexer": "ipython3",
   "version": "3.7.6"
  }
 },
 "nbformat": 4,
 "nbformat_minor": 4
}
