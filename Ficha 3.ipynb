{
 "cells": [
  {
   "cell_type": "code",
   "execution_count": 1,
   "metadata": {},
   "outputs": [
    {
     "name": "stdout",
     "output_type": "stream",
     "text": [
      "Insere o teu ano de nascimento 1993\n",
      "A tua idade é 27\n"
     ]
    }
   ],
   "source": [
    "#    ENTRADA DE DADOS\n",
    "#    Exerício 2.1.2\n",
    "\n",
    "import numpy as  np\n",
    "ano=2020\n",
    "ano_nascimento=eval(input(\"Insere o teu ano de nascimento \"))\n",
    "idade=ano-ano_nascimento\n",
    "print(\"A tua idade é\", idade)"
   ]
  },
  {
   "cell_type": "code",
   "execution_count": 7,
   "metadata": {},
   "outputs": [
    {
     "name": "stdout",
     "output_type": "stream",
     "text": [
      "Introduz a palvra que pretendes inverter\"Pedro\"\n",
      "A palavra invertida é  ordeP\n"
     ]
    }
   ],
   "source": [
    "#    Exercício 2.1.3\n",
    "\n",
    "palavra=eval(input(\"Introduz a palvra que pretendes inverter\"))\n",
    "print(\"A palavra invertida é \", (palavra[::-1]))"
   ]
  },
  {
   "cell_type": "code",
   "execution_count": 27,
   "metadata": {},
   "outputs": [
    {
     "name": "stdout",
     "output_type": "stream",
     "text": [
      "Introduza um número: 4\n",
      "O número não é inteiro\n"
     ]
    }
   ],
   "source": [
    "#    Estruturas Condicionais \n",
    "#    Exercício 2.2.1\n",
    "\n",
    "numero=eval(input(\"Introduza um número: \"))\n",
    "if (numero%1)==0:\n",
    "   print(\"O número é inteiro\")\n",
    "else:\n",
    "   print(\"O número não é inteiro\")"
   ]
  },
  {
   "cell_type": "code",
   "execution_count": 1,
   "metadata": {},
   "outputs": [
    {
     "name": "stdout",
     "output_type": "stream",
     "text": [
      "Introduza um número: 4\n",
      "O número é real\n"
     ]
    }
   ],
   "source": [
    "#    Exercício 2.2.2 (O ponto antes de real define aquilo que eu quero obter de numero. Real vai buscar a parte real do número)\n",
    "\n",
    "numero=eval(input(\"Introduza um número: \"))\n",
    "if numero==numero.real:\n",
    "   print(\"O número é real\")\n",
    "else:\n",
    "   print(\"O número não é real\")"
   ]
  },
  {
   "cell_type": "code",
   "execution_count": 3,
   "metadata": {},
   "outputs": [
    {
     "name": "stdout",
     "output_type": "stream",
     "text": [
      "Introduza um número: -3\n",
      "Número Negativo\n"
     ]
    }
   ],
   "source": [
    "#    Exercício 2.2.3\n",
    "\n",
    "numero=eval(input(\"Introduza um número: \"))\n",
    "if numero > 0:\n",
    "    print(\"Número Positivo\")\n",
    "elif numero < 0:\n",
    "    print(\"Número Negativo\")\n",
    "else:\n",
    "    print(\"Zero\")"
   ]
  },
  {
   "cell_type": "code",
   "execution_count": 6,
   "metadata": {},
   "outputs": [
    {
     "name": "stdout",
     "output_type": "stream",
     "text": [
      "Introduza um número: 6.4\n",
      "Número inválido: tem que ser um número inteiro\n"
     ]
    }
   ],
   "source": [
    "#    Exercício 2.2.4\n",
    "\n",
    "numero=eval(input(\"Introduza um número: \"))\n",
    "if (numero%1)==0:\n",
    "    if numero%2==0:\n",
    "        print(\"Número par\")\n",
    "    else:\n",
    "        print(\"Número ímpar\")\n",
    "else:\n",
    "    print(\"Número inválido: tem que ser um número inteiro\")"
   ]
  },
  {
   "cell_type": "code",
   "execution_count": 17,
   "metadata": {},
   "outputs": [
    {
     "name": "stdout",
     "output_type": "stream",
     "text": [
      "Insira o dia de nascimento: 11\n",
      "Insira o mês de nascimento: 11\n",
      "Insira o ano de nascimento: 1993\n",
      "A tua idade é: 26 anos.\n"
     ]
    }
   ],
   "source": [
    "#    Exercício 2.2.5 (Tentar fazer com if e elses)\n",
    "\n",
    "from datetime import date\n",
    "\n",
    "def calcular_idade(data):\n",
    "    today=date.today()\n",
    "    idade=today.year-data.year-((today.month, today.year) < (data.month, data.year))\n",
    "    return idade\n",
    "\n",
    "dia=eval(input(\"Insira o dia de nascimento: \"))\n",
    "mes=eval(input(\"Insira o mês de nascimento: \"))\n",
    "ano=eval(input(\"Insira o ano de nascimento: \"))\n",
    "print(\"A tua idade é:\", calcular_idade(date(ano,mes,dia)), \"anos.\")\n"
   ]
  },
  {
   "cell_type": "code",
   "execution_count": 26,
   "metadata": {},
   "outputs": [
    {
     "name": "stdout",
     "output_type": "stream",
     "text": [
      "Insira o dia de nascimento: 11\n",
      "Insira o mês de nascimento: 11\n",
      "Insira o ano de nascimento: 1993\n",
      "A tua idade é  26 anos.\n"
     ]
    }
   ],
   "source": [
    "#    Exercício 2.2.5 (Com if e else)\n",
    "\n",
    "from datetime import date\n",
    "\n",
    "dia=eval(input(\"Insira o dia de nascimento: \"))\n",
    "mes=eval(input(\"Insira o mês de nascimento: \"))\n",
    "ano=eval(input(\"Insira o ano de nascimento: \"))\n",
    "today=date.today()\n",
    "idade=today.year-ano\n",
    "\n",
    "if today.month < mes:\n",
    "    print(\"A tua idade é \", idade-1, \"anos.\")\n",
    "elif today.day < dia:\n",
    "    print(\"A tua idade é \", idade-1, \"anos.\")\n",
    "else:\n",
    "    print(\"A tua idade é \", idade, \"anos.\")"
   ]
  },
  {
   "cell_type": "code",
   "execution_count": 27,
   "metadata": {},
   "outputs": [
    {
     "name": "stdout",
     "output_type": "stream",
     "text": [
      "Introduza o seu nome prórpio: Ana Rita\n",
      "Inválido\n"
     ]
    }
   ],
   "source": [
    "#    Exercício 2.2.6\n",
    "\n",
    "nome_proprio=input(\"Introduza o seu nome prórpio: \")\n",
    "if ('' in nome_proprio):\n",
    "    print(\"Inválido\");\n",
    "else:\n",
    "    print(\"Válido\")"
   ]
  },
  {
   "cell_type": "code",
   "execution_count": 48,
   "metadata": {},
   "outputs": [
    {
     "name": "stdout",
     "output_type": "stream",
     "text": [
      "Amares\n",
      "Barcelos\n",
      "Braga\n",
      "Cabeceiras_de_Basto\n",
      "Celorico_de_Basto\n",
      "Esposende\n",
      "Fafe\n",
      "Guimarães\n",
      "Póvoa_de_Lanhoso\n",
      "Terras_de_Bouro\n",
      "Vieira_do_Minho\n",
      "Vila_Nova_de_Famalicão\n",
      "Vila_Verde\n",
      "Vizela\n"
     ]
    }
   ],
   "source": [
    "#    ESTRUTURAS CÍCLICAS: for\n",
    "\n",
    "import numpy as np\n",
    "\n",
    "populacao = { \"Amares\": 19853, \"Barcelos\": 124555, \"Braga\": 176154, \"Cabeceiras_de_Basto\": 17635, \"Celorico_de_Basto\": 19767,\n",
    "             \"Esposende\": 35552, \"Fafe\": 53600, \"Guimarães\": 162636, \"Póvoa_de_Lanhoso\": 24230, \"Terras_de_Bouro\": 7506, \n",
    "             \"Vieira_do_Minho\": 14077, \"Vila_Nova_de_Famalicão\": 134969, \"Vila_Verde\": 49171, \"Vizela\": 24477 }\n",
    "\n",
    "#    Exercício 2.3.1\n",
    "\n",
    "for x in populacao:\n",
    "    print(x)"
   ]
  },
  {
   "cell_type": "code",
   "execution_count": 55,
   "metadata": {},
   "outputs": [
    {
     "name": "stdout",
     "output_type": "stream",
     "text": [
      "Barcelos\n",
      "Braga\n",
      "Fafe\n",
      "Guimarães\n",
      "Vila_Nova_de_Famalicão\n"
     ]
    }
   ],
   "source": [
    "#    Exercício 2.3.2\n",
    "\n",
    "for x in populacao:\n",
    "    if populacao.get(x)>50000:\n",
    "        print(x)"
   ]
  },
  {
   "cell_type": "code",
   "execution_count": 14,
   "metadata": {},
   "outputs": [
    {
     "name": "stdout",
     "output_type": "stream",
     "text": [
      "A média das velocidades é 76.0\n",
      "A média das velocidades é 76.0\n"
     ]
    }
   ],
   "source": [
    "#    Exercício 2.3.3\n",
    "\n",
    "soma=0\n",
    "vel=[50, 50, 70, 90, 120]\n",
    "for x in range(len(vel)):\n",
    "    valor=vel[x]\n",
    "    soma=soma+valor\n",
    "mean=soma/len(vel)\n",
    "print(\"A média das velocidades é\", mean)\n",
    "\n",
    "import numpy as np\n",
    "soma=0\n",
    "vel=np.array([50, 50, 70, 90, 120])\n",
    "for x in range(len(vel)):\n",
    "    valor=vel[x]\n",
    "    soma=soma+valor\n",
    "mean=soma/len(vel)\n",
    "print(\"A média das velocidades é\", mean)\n"
   ]
  },
  {
   "cell_type": "code",
   "execution_count": 1,
   "metadata": {},
   "outputs": [
    {
     "name": "stdout",
     "output_type": "stream",
     "text": [
      "120\n"
     ]
    }
   ],
   "source": [
    "#    Exercício 2.4.3\n",
    "\n",
    "vel=[50, 50, 70, 90, 120]\n",
    "for x in vel:\n",
    "    if x == max(vel):\n",
    "        print(max(vel))"
   ]
  },
  {
   "cell_type": "code",
   "execution_count": 18,
   "metadata": {},
   "outputs": [],
   "source": [
    "#    ESTRUTURAS CÍCLICAS: while\n",
    "\n",
    "import numpy as np\n",
    "\n",
    "populacao = { \"Amares\": 19853, \"Barcelos\": 124555, \"Braga\": 176154, \"Cabeceiras_de_Basto\": 17635, \"Celorico_de_Basto\": 19767,\n",
    "             \"Esposende\": 35552, \"Fafe\": 53600, \"Guimarães\": 162636, \"Póvoa_de_Lanhoso\": 24230, \"Terras_de_Bouro\": 7506, \n",
    "             \"Vieira_do_Minho\": 14077, \"Vila_Nova_de_Famalicão\": 134969, \"Vila_Verde\": 49171, \"Vizela\": 24477 }\n",
    "\n",
    "#    Exercício 2.5.1\n",
    "\n"
   ]
  },
  {
   "cell_type": "code",
   "execution_count": 20,
   "metadata": {},
   "outputs": [
    {
     "data": {
      "text/plain": [
       "array([-2, -3,  0, -2, -9,  2, -6, -3,  2,  1])"
      ]
     },
     "execution_count": 20,
     "metadata": {},
     "output_type": "execute_result"
    }
   ],
   "source": [
    "np.random.randint(-10, 9, 10)"
   ]
  },
  {
   "cell_type": "code",
   "execution_count": null,
   "metadata": {},
   "outputs": [],
   "source": []
  }
 ],
 "metadata": {
  "kernelspec": {
   "display_name": "Python 3",
   "language": "python",
   "name": "python3"
  },
  "language_info": {
   "codemirror_mode": {
    "name": "ipython",
    "version": 3
   },
   "file_extension": ".py",
   "mimetype": "text/x-python",
   "name": "python",
   "nbconvert_exporter": "python",
   "pygments_lexer": "ipython3",
   "version": "3.7.6"
  }
 },
 "nbformat": 4,
 "nbformat_minor": 4
}
