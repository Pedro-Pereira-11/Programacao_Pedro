{
 "cells": [
  {
   "cell_type": "code",
   "execution_count": 1,
   "metadata": {},
   "outputs": [],
   "source": [
    "concelhos = [\"Amares\", \"Barcelos\", \"Braga\", \"Cabeceiras_de_Basto\", \"Celourico_de_Basto\", \"Esposende\", \"Fafe\", \"Guimarães\", \"Póvoa_de_Lanhoso\", \"Terras_de_Bouro\", \"Vieiera_do_Minho\", \"Vila_Nova_de_Famalicão\", \"Vila_Verde\", \"Vizela\"]"
   ]
  },
  {
   "cell_type": "code",
   "execution_count": 2,
   "metadata": {},
   "outputs": [
    {
     "data": {
      "text/plain": [
       "14"
      ]
     },
     "execution_count": 2,
     "metadata": {},
     "output_type": "execute_result"
    }
   ],
   "source": [
    "#    Número de elementos da lista\n",
    "len(concelhos)"
   ]
  },
  {
   "cell_type": "code",
   "execution_count": 3,
   "metadata": {},
   "outputs": [
    {
     "data": {
      "text/plain": [
       "'Amares'"
      ]
     },
     "execution_count": 3,
     "metadata": {},
     "output_type": "execute_result"
    }
   ],
   "source": [
    "#    Primeiro elemento da lista\n",
    "concelhos[0]"
   ]
  },
  {
   "cell_type": "code",
   "execution_count": 4,
   "metadata": {},
   "outputs": [
    {
     "data": {
      "text/plain": [
       "['Amares', 'Vizela']"
      ]
     },
     "execution_count": 4,
     "metadata": {},
     "output_type": "execute_result"
    }
   ],
   "source": [
    "#    Cria-se uma lista com o primeiro e último elemento do array concelhos. O último elemento de uma lista pode ser indexado\n",
    "# como -1. \n",
    "[concelhos[0], concelhos[-1]]"
   ]
  },
  {
   "cell_type": "code",
   "execution_count": 5,
   "metadata": {},
   "outputs": [
    {
     "data": {
      "text/plain": [
       "['Amares',\n",
       " 'Barcelos',\n",
       " 'Braga',\n",
       " 'Cabeceiras_de_Basto',\n",
       " 'Celourico_de_Basto',\n",
       " 'Esposende',\n",
       " 'Fafe',\n",
       " 'Guimarães',\n",
       " 'Póvoa_de_Lanhoso',\n",
       " 'Terras_de_Bouro',\n",
       " 'Vieiera_do_Minho',\n",
       " 'Vila_Nova_de_Famalicão',\n",
       " 'Vila_Verde',\n",
       " 'Vizela']"
      ]
     },
     "execution_count": 5,
     "metadata": {},
     "output_type": "execute_result"
    }
   ],
   "source": [
    "#    A função sorted() pega numa lista e retorna uma nova lista com os elementos ordenados da primeira lista. .: Como um vetor?\n",
    "#Verticalmente \n",
    "sorted(concelhos)\n",
    "#    A função sorted() ordena os elementos da lista, neste caso."
   ]
  },
  {
   "cell_type": "code",
   "execution_count": 6,
   "metadata": {},
   "outputs": [
    {
     "data": {
      "text/plain": [
       "['Vizela',\n",
       " 'Vila_Verde',\n",
       " 'Vila_Nova_de_Famalicão',\n",
       " 'Vieiera_do_Minho',\n",
       " 'Terras_de_Bouro',\n",
       " 'Póvoa_de_Lanhoso',\n",
       " 'Guimarães',\n",
       " 'Fafe',\n",
       " 'Esposende',\n",
       " 'Celourico_de_Basto',\n",
       " 'Cabeceiras_de_Basto',\n",
       " 'Braga',\n",
       " 'Barcelos',\n",
       " 'Amares']"
      ]
     },
     "execution_count": 6,
     "metadata": {},
     "output_type": "execute_result"
    }
   ],
   "source": [
    "#    Podemos inverter a lista que sorted() retorna, aplicando a função reverse=True.\n",
    "sorted(concelhos, reverse=True)\n",
    "#    O parâmetro reverse=True faz com que sorted() devolva os elementos da lista de forma a que o ultimo elemento se torne o \n",
    "# primeiro, o segundo no penúltimo, e por aí em diante. Se reverse=False, o resultado não é devolvido."
   ]
  },
  {
   "cell_type": "code",
   "execution_count": 7,
   "metadata": {},
   "outputs": [
    {
     "data": {
      "text/plain": [
       "['Fafe',\n",
       " 'Braga',\n",
       " 'Amares',\n",
       " 'Vizela',\n",
       " 'Barcelos',\n",
       " 'Esposende',\n",
       " 'Guimarães',\n",
       " 'Vila_Verde',\n",
       " 'Terras_de_Bouro',\n",
       " 'Póvoa_de_Lanhoso',\n",
       " 'Vieiera_do_Minho',\n",
       " 'Celourico_de_Basto',\n",
       " 'Cabeceiras_de_Basto',\n",
       " 'Vila_Nova_de_Famalicão']"
      ]
     },
     "execution_count": 7,
     "metadata": {},
     "output_type": "execute_result"
    }
   ],
   "source": [
    "#    Neste caso, a lista foi ordenada consoante o número de letras que cada concelho tem, por ordem crescente.\n",
    "sorted(concelhos, key=len)\n",
    "#    O parâmetro key=len faz com que a lista seja orndenada de forma ascendente, desde o menor elemento até ao maior elemento \n",
    "# da mesma."
   ]
  },
  {
   "cell_type": "code",
   "execution_count": 1,
   "metadata": {},
   "outputs": [],
   "source": [
    "#    De cada vez que se abre o documento, temos de declarar novamente a variável.\n",
    "concelhos = [\"Amares\", \"Barcelos\", \"Braga\", \"Cabeceiras_de_Basto\", \"Celourico_de_Basto\", \"Esposende\", \"Fafe\", \"Guimarães\", \"Póvoa_de_Lanhoso\", \"Terras_de_Bouro\", \"Vieiera_do_Minho\", \"Vila_Nova_de_Famalicão\", \"Vila_Verde\", \"Vizela\"]\n"
   ]
  },
  {
   "cell_type": "code",
   "execution_count": 2,
   "metadata": {},
   "outputs": [
    {
     "name": "stdout",
     "output_type": "stream",
     "text": [
      "['Vizela', 'Vila_Verde', 'Vila_Nova_de_Famalicão', 'Vieiera_do_Minho', 'Terras_de_Bouro', 'Póvoa_de_Lanhoso', 'Guimarães', 'Fafe', 'Esposende', 'Celourico_de_Basto', 'Cabeceiras_de_Basto', 'Braga', 'Barcelos', 'Amares']\n"
     ]
    }
   ],
   "source": [
    "#    O método sort() da classe list, modifica a própria lista e, em vez de devolver a lista, armazena-a com a ordenação imposta \n",
    "# pela função list.sort().\n",
    "#    Vamos alterar a ordem pela qual são armazenados os elementos da lista:\n",
    "list.sort(concelhos, reverse=True)\n",
    "#    Fazemos print(concelhos) para mostrar a lista armazenada que passou a ter uma ordem diferente:\n",
    "print(concelhos)"
   ]
  },
  {
   "cell_type": "code",
   "execution_count": 4,
   "metadata": {},
   "outputs": [],
   "source": [
    "#    Declaração do dicíonario:\n",
    "populacao = { \"Amares\": 19853, \"Barcelos\": 124555, \"Braga\": 176154, \"Cabeceiras_de_Basto\": 17635, \"Celorico_de_Basto\": 19767, \"Esposende\": 35552, \"Fafe\": 53600, \"Guimarães\": 162636, \"Póvoa_de_Lanhoso\": 24230, \"Terras_de_Bouro\": 7506, \"Vieira_do_Minho\": 14077, \"Vila_Nova_de_Famalicão\": 134969, \"Vila_Verde\": 49171, \"Vizela\": 24477 }\n"
   ]
  },
  {
   "cell_type": "code",
   "execution_count": 5,
   "metadata": {},
   "outputs": [
    {
     "data": {
      "text/plain": [
       "dict_keys(['Amares', 'Barcelos', 'Braga', 'Cabeceiras_de_Basto', 'Celorico_de_Basto', 'Esposende', 'Fafe', 'Guimarães', 'Póvoa_de_Lanhoso', 'Terras_de_Bouro', 'Vieira_do_Minho', 'Vila_Nova_de_Famalicão', 'Vila_Verde', 'Vizela'])"
      ]
     },
     "execution_count": 5,
     "metadata": {},
     "output_type": "execute_result"
    }
   ],
   "source": [
    "#    Os dicionário são constituidos por um conjunto de valores e chaves e é possível separalos com as seguintes intruções:\n",
    "#        - chaves;\n",
    "populacao.keys()\n"
   ]
  },
  {
   "cell_type": "code",
   "execution_count": 6,
   "metadata": {},
   "outputs": [
    {
     "data": {
      "text/plain": [
       "dict_values([19853, 124555, 176154, 17635, 19767, 35552, 53600, 162636, 24230, 7506, 14077, 134969, 49171, 24477])"
      ]
     },
     "execution_count": 6,
     "metadata": {},
     "output_type": "execute_result"
    }
   ],
   "source": [
    "#        - valores;\n",
    "populacao.values()"
   ]
  },
  {
   "cell_type": "code",
   "execution_count": 7,
   "metadata": {},
   "outputs": [
    {
     "data": {
      "text/plain": [
       "24477"
      ]
     },
     "execution_count": 7,
     "metadata": {},
     "output_type": "execute_result"
    }
   ],
   "source": [
    "#    Para irmos buscar o número de habitantes de vizela, temos de obter o valor associado à chave \"Vizela\": Para tal, \n",
    "# há duas formas de o fazermos:\n",
    "populacao[\"Vizela\"]"
   ]
  },
  {
   "cell_type": "code",
   "execution_count": 8,
   "metadata": {},
   "outputs": [
    {
     "data": {
      "text/plain": [
       "24477"
      ]
     },
     "execution_count": 8,
     "metadata": {},
     "output_type": "execute_result"
    }
   ],
   "source": [
    "#    get() retorna o valor da chave que especificamos:\n",
    "populacao.get(\"Vizela\")"
   ]
  },
  {
   "cell_type": "code",
   "execution_count": 13,
   "metadata": {},
   "outputs": [
    {
     "data": {
      "text/plain": [
       "'Braga'"
      ]
     },
     "execution_count": 13,
     "metadata": {},
     "output_type": "execute_result"
    }
   ],
   "source": [
    "#    A expressão max(populacao) daria-nos o máximo das chaves (que seria “Vizela”). Como queremos o máximo dos valores,\n",
    "# temos que usar o parâmetro key com o método populacao.get() que nos permite ir bucar os valores associados às chaves. \n",
    "# Assim o máximo é calculado em funçã dos valores e não das chaves.\n",
    "max(populacao, key=populacao.get)\n"
   ]
  },
  {
   "cell_type": "code",
   "execution_count": 15,
   "metadata": {},
   "outputs": [
    {
     "data": {
      "text/plain": [
       "864182"
      ]
     },
     "execution_count": 15,
     "metadata": {},
     "output_type": "execute_result"
    }
   ],
   "source": [
    "#    Para somarmos todos os habitantes de todos os concelhos, aplicamos a função sum():\n",
    "sum(populacao.values())"
   ]
  },
  {
   "cell_type": "code",
   "execution_count": 33,
   "metadata": {},
   "outputs": [
    {
     "data": {
      "text/plain": [
       "[('Braga', 176154),\n",
       " ('Guimarães', 162636),\n",
       " ('Vila_Nova_de_Famalicão', 134969),\n",
       " ('Barcelos', 124555),\n",
       " ('Fafe', 53600),\n",
       " ('Vila_Verde', 49171),\n",
       " ('Esposende', 35552),\n",
       " ('Vizela', 24477),\n",
       " ('Póvoa_de_Lanhoso', 24230),\n",
       " ('Amares', 19853),\n",
       " ('Celorico_de_Basto', 19767),\n",
       " ('Cabeceiras_de_Basto', 17635),\n",
       " ('Vieira_do_Minho', 14077),\n",
       " ('Terras_de_Bouro', 7506)]"
      ]
     },
     "execution_count": 33,
     "metadata": {},
     "output_type": "execute_result"
    }
   ],
   "source": [
    "sorted(populacao.items(), reverse=True, key=lambda item: item[1])"
   ]
  },
  {
   "cell_type": "code",
   "execution_count": 5,
   "metadata": {},
   "outputs": [],
   "source": [
    "#    Os arrays são indicados para armazenar uma coleção de elementos do mesmo tipo. As listas, como se viu, podem conter \n",
    "# elementos de vários tipos diferentes. Os arrays, para serem mais eficientes,apenas permitem elementos do mesmo tipo \n",
    "# (booleanos, inteiros, reais, etc). Os arrays podem ser criados com o módulo array ou com o módulo numpy. Ambas as \n",
    "# implementações são semelhantes. Nestes exercícios, vamos usar sempre o módulo numpy para trabalhar com arrays.\n",
    "\n",
    "#   Os arrays podem ser criados com o módulo array ou com o módulo numpy. Ambas as implementações são semelhantes.\n",
    "# Nestes exercícios, vamos usar sempre o módulo numpy para trabalhar com arrays.\n",
    "\n",
    "import numpy as np\n",
    "vel = np.array([50, 50, 70, 90, 120])\n",
    "np.random.seed(0)\n",
    "notas = np.random.randint(100, size=10)\n"
   ]
  },
  {
   "cell_type": "code",
   "execution_count": 6,
   "metadata": {},
   "outputs": [
    {
     "data": {
      "text/plain": [
       "76.0"
      ]
     },
     "execution_count": 6,
     "metadata": {},
     "output_type": "execute_result"
    }
   ],
   "source": [
    "np.mean(vel)"
   ]
  },
  {
   "cell_type": "code",
   "execution_count": 7,
   "metadata": {},
   "outputs": [
    {
     "data": {
      "text/plain": [
       "50"
      ]
     },
     "execution_count": 7,
     "metadata": {},
     "output_type": "execute_result"
    }
   ],
   "source": [
    "np.min(vel)"
   ]
  },
  {
   "cell_type": "code",
   "execution_count": 14,
   "metadata": {},
   "outputs": [
    {
     "data": {
      "text/plain": [
       "array([ -7,  -4,   1,   4,   8, -10,   4,  -7,   2,   0])"
      ]
     },
     "execution_count": 14,
     "metadata": {},
     "output_type": "execute_result"
    }
   ],
   "source": [
    "np.random.randint(-10, 11, 10)\n"
   ]
  },
  {
   "cell_type": "code",
   "execution_count": null,
   "metadata": {},
   "outputs": [],
   "source": []
  }
 ],
 "metadata": {
  "kernelspec": {
   "display_name": "Python 3",
   "language": "python",
   "name": "python3"
  },
  "language_info": {
   "codemirror_mode": {
    "name": "ipython",
    "version": 3
   },
   "file_extension": ".py",
   "mimetype": "text/x-python",
   "name": "python",
   "nbconvert_exporter": "python",
   "pygments_lexer": "ipython3",
   "version": "3.7.6"
  }
 },
 "nbformat": 4,
 "nbformat_minor": 4
}
