{
 "cells": [
  {
   "cell_type": "code",
   "execution_count": 2,
   "metadata": {},
   "outputs": [
    {
     "name": "stdout",
     "output_type": "stream",
     "text": [
      "As variáveis não são iguais\n"
     ]
    }
   ],
   "source": [
    "#    Exercício 1   \n",
    "\n",
    "nome = 'Manuel'\n",
    "Nome = 'Maria'\n",
    "if nome == Nome:\n",
    "    print(\"As variáveis são iguais\")\n",
    "else:\n",
    "    print(\"As variáveis não são iguais\")"
   ]
  },
  {
   "cell_type": "code",
   "execution_count": 3,
   "metadata": {},
   "outputs": [
    {
     "name": "stdout",
     "output_type": "stream",
     "text": [
      "(3, 2)\n"
     ]
    }
   ],
   "source": [
    "#    Exercício 2\n",
    "\n",
    "print(divmod(17,5))"
   ]
  },
  {
   "cell_type": "code",
   "execution_count": 4,
   "metadata": {},
   "outputs": [
    {
     "name": "stdout",
     "output_type": "stream",
     "text": [
      "Ambas as variáveis são do tipo str\n"
     ]
    }
   ],
   "source": [
    "#    Exercício 3\n",
    "\n",
    "x = \"Amor de perdição\"\n",
    "y = 'Amor de perdição'\n",
    "\n",
    "if type(x) == type(y):\n",
    "    print(\"Ambas as variáveis são do tipo str\")\n",
    "else:\n",
    "    print(\"Tipos de variável diferente\")"
   ]
  },
  {
   "cell_type": "code",
   "execution_count": 6,
   "metadata": {},
   "outputs": [
    {
     "data": {
      "text/plain": [
       "True"
      ]
     },
     "execution_count": 6,
     "metadata": {},
     "output_type": "execute_result"
    }
   ],
   "source": [
    "#    Exerício 3 (versão simplificada)\n",
    "\n",
    "x = \"Amor de perdição\"\n",
    "y = 'Amor de perdição'\n",
    "type(x) == type(y)"
   ]
  },
  {
   "cell_type": "code",
   "execution_count": 7,
   "metadata": {},
   "outputs": [
    {
     "data": {
      "text/plain": [
       "'O GASÓLEO ESTÁ A 1.21 €'"
      ]
     },
     "execution_count": 7,
     "metadata": {},
     "output_type": "execute_result"
    }
   ],
   "source": [
    "#    Exercício 4\n",
    "# :0.2f faz com que o valor do gasóleo seja apresentado com duas casas decimais.\n",
    "\n",
    "\"O gasóleo está a {:0.2f} €\".format(1.214).upper()"
   ]
  },
  {
   "cell_type": "code",
   "execution_count": null,
   "metadata": {},
   "outputs": [],
   "source": []
  }
 ],
 "metadata": {
  "kernelspec": {
   "display_name": "Python 3",
   "language": "python",
   "name": "python3"
  },
  "language_info": {
   "codemirror_mode": {
    "name": "ipython",
    "version": 3
   },
   "file_extension": ".py",
   "mimetype": "text/x-python",
   "name": "python",
   "nbconvert_exporter": "python",
   "pygments_lexer": "ipython3",
   "version": "3.7.6"
  }
 },
 "nbformat": 4,
 "nbformat_minor": 4
}
